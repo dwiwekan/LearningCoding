{
 "cells": [
  {
   "cell_type": "code",
   "execution_count": 2,
   "metadata": {},
   "outputs": [
    {
     "name": "stdout",
     "output_type": "stream",
     "text": [
      "5\n",
      "1\n"
     ]
    }
   ],
   "source": [
    "# A = [1,3,6,4,1,2], the function should return 5.\n",
    "# B = [1,2,3], the function should return 4.\n",
    "# C = [-1,-3], the function should return 1.\n",
    "\n",
    "def solution(A):\n",
    "    A.sort()\n",
    "    if A[-1] <= 0:\n",
    "        return 1\n",
    "    if A[0] > 1:\n",
    "        return 1\n",
    "    for i in range(len(A)-1):\n",
    "        if A[i] <= 0:\n",
    "            continue\n",
    "        if A[i+1] - A[i] > 1:\n",
    "            return A[i]+1\n",
    "    return A[-1]+1\n",
    "\n",
    "A = [1,3,6,4,1,2]\n",
    "B = [1,2,3]\n",
    "C = [-1,-3]\n",
    "\n",
    "print(solution(A))\n",
    "A5 = [2,4,6,8,10]\n",
    "print(solution(A5))"
   ]
  },
  {
   "cell_type": "code",
   "execution_count": 10,
   "metadata": {},
   "outputs": [
    {
     "name": "stdout",
     "output_type": "stream",
     "text": [
      "False\n"
     ]
    }
   ],
   "source": [
    "S = 'abba'\n",
    "\n",
    "def solution(S):\n",
    "    for i in range(len(S)):\n",
    "        if S[i-1] == 'b' and S[i] == 'a':\n",
    "            return False\n",
    "    return True\n",
    "\n",
    "print(solution(S))"
   ]
  },
  {
   "cell_type": "code",
   "execution_count": 16,
   "metadata": {},
   "outputs": [
    {
     "name": "stdout",
     "output_type": "stream",
     "text": [
      "False\n"
     ]
    }
   ],
   "source": [
    "def solution(S):\n",
    "    for i in range(1, len(S)):\n",
    "        if S[i - 1] == 'b' and S[i] == 'a':\n",
    "            return False\n",
    "    return True\n",
    "\n",
    "# Test the function with the input \"abba\"\n",
    "result = solution(\"abba\")\n",
    "print(result)"
   ]
  },
  {
   "cell_type": "code",
   "execution_count": 19,
   "metadata": {},
   "outputs": [
    {
     "name": "stdout",
     "output_type": "stream",
     "text": [
      "None\n",
      "None\n",
      "0\n"
     ]
    }
   ],
   "source": [
    "# function array A of N integers, returns the sum of the first three positive integers in the array counting from the left to the right.\n",
    "# A = [4,-2,0,5,-2,1,6], return 10 (4+5+1)\n",
    "# A = [3,-2,0] return 3\n",
    "# A = [-9,-4,-2,-6] return 0\n",
    "\n",
    "def solution(A):\n",
    "    A.sort()\n",
    "    if A[-1] <= 0:\n",
    "        return 0\n",
    "    \n",
    "    \n",
    "\n",
    "A = [4,-2,0,5,-2,1,6]\n",
    "B = [3,-2,0]\n",
    "C = [-9,-4,-2,-6]\n",
    "\n",
    "print(solution(A))\n",
    "print(solution(B))\n",
    "print(solution(C))"
   ]
  },
  {
   "cell_type": "code",
   "execution_count": null,
   "metadata": {},
   "outputs": [],
   "source": [
    "def solution(S):\n",
    "    V = int(S,2)\n",
    "    count = 0\n",
    "    while V>0:\n",
    "        if V % 2 == 1:\n",
    "            V-=1\n",
    "        else:\n",
    "            V/=2\n",
    "        count +=1\n",
    "    return count"
   ]
  }
 ],
 "metadata": {
  "kernelspec": {
   "display_name": "Python 3",
   "language": "python",
   "name": "python3"
  },
  "language_info": {
   "codemirror_mode": {
    "name": "ipython",
    "version": 3
   },
   "file_extension": ".py",
   "mimetype": "text/x-python",
   "name": "python",
   "nbconvert_exporter": "python",
   "pygments_lexer": "ipython3",
   "version": "3.8.10"
  },
  "orig_nbformat": 4
 },
 "nbformat": 4,
 "nbformat_minor": 2
}
