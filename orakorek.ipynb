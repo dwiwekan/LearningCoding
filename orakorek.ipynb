{
 "cells": [
  {
   "cell_type": "code",
   "execution_count": 2,
   "metadata": {},
   "outputs": [
    {
     "data": {
      "text/plain": [
       "'Hello World'"
      ]
     },
     "execution_count": 2,
     "metadata": {},
     "output_type": "execute_result"
    }
   ],
   "source": [
    "#!/bin/python3\n",
    "\n",
    "import math\n",
    "import os\n",
    "import random\n",
    "import re\n",
    "import sys\n",
    "\n",
    "# Complete the solve function below.\n",
    "def solve(s):\n",
    "    for i in s.split():\n",
    "        s = s.replace(i,i.capitalize())\n",
    "    return s\n",
    "\n",
    "solve(\"hello world\") "
   ]
  },
  {
   "cell_type": "code",
   "execution_count": 3,
   "metadata": {},
   "outputs": [
    {
     "data": {
      "text/plain": [
       "'1 W 2 R 3g'"
      ]
     },
     "execution_count": 3,
     "metadata": {},
     "output_type": "execute_result"
    }
   ],
   "source": [
    "solve(\"1 w 2 r 3g\")"
   ]
  },
  {
   "cell_type": "code",
   "execution_count": 4,
   "metadata": {},
   "outputs": [],
   "source": [
    "def minion_game(string):\n",
    "    stuart = 0\n",
    "    kevin = 0\n",
    "    for i in range(len(string)):\n",
    "        if string[i] in 'AEIOU':\n",
    "            kevin += len(string) - i\n",
    "        else:\n",
    "            stuart += len(string) - i\n",
    "    \n",
    "    if stuart > kevin:\n",
    "        print('Stuart', stuart)\n",
    "    elif stuart < kevin:\n",
    "        print('Kevin', kevin)\n",
    "    else:\n",
    "        print('Draw')"
   ]
  },
  {
   "cell_type": "code",
   "execution_count": 13,
   "metadata": {},
   "outputs": [
    {
     "name": "stdout",
     "output_type": "stream",
     "text": [
      "Stuart 6\n"
     ]
    }
   ],
   "source": [
    "minion_game('Ayam')"
   ]
  },
  {
   "cell_type": "code",
   "execution_count": 18,
   "metadata": {},
   "outputs": [],
   "source": [
    "def is_subset(set_A, set_B):\n",
    "    return set_A.issubset(set_B)"
   ]
  },
  {
   "cell_type": "code",
   "execution_count": 22,
   "metadata": {},
   "outputs": [
    {
     "name": "stdout",
     "output_type": "stream",
     "text": [
      "True\n",
      "True\n"
     ]
    }
   ],
   "source": [
    "if __name__ == '__main__':\n",
    "    num_test_cases = int(input())\n",
    "\n",
    "    for _ in range(num_test_cases):\n",
    "        n_A = int(input())\n",
    "        set_A = set(map(int, input().split()))\n",
    "        \n",
    "        n_B = int(input())\n",
    "        set_B = set(map(int, input().split()))\n",
    "\n",
    "        result = is_subset(set_A, set_B)\n",
    "        print(result)"
   ]
  },
  {
   "cell_type": "code",
   "execution_count": 2,
   "metadata": {},
   "outputs": [
    {
     "name": "stdout",
     "output_type": "stream",
     "text": [
      "{'Randy': ['Input.txt', 'Output.txt'], 'Stan': ['Code.py']}\n"
     ]
    }
   ],
   "source": [
    "def group_by_owners(files):\n",
    "    files_dict = {}\n",
    "    for key, value in files.items():\n",
    "        if value in files_dict:\n",
    "            files_dict[value].append(key)\n",
    "        else:\n",
    "            files_dict[value] = [key]\n",
    "    return files_dict\n",
    "\n",
    "if __name__ == \"__main__\":    \n",
    "    files = {\n",
    "        'Input.txt': 'Randy',\n",
    "        'Code.py': 'Stan',\n",
    "        'Output.txt': 'Randy'\n",
    "    }   \n",
    "    print(group_by_owners(files))"
   ]
  },
  {
   "cell_type": "code",
   "execution_count": 7,
   "metadata": {},
   "outputs": [
    {
     "name": "stdout",
     "output_type": "stream",
     "text": [
      "(-1.0, -4.0)\n"
     ]
    }
   ],
   "source": [
    "def find_roots(a, b, c):\n",
    "    formula_answer = ()\n",
    "    discriminant = b**2 - 4*a*c\n",
    "    \n",
    "    if discriminant >= 0:\n",
    "        root1 = (-b + (discriminant)**0.5) / (2*a)\n",
    "        root2 = (-b - (discriminant)**0.5) / (2*a)\n",
    "        formula_answer = (root1, root2)\n",
    "    \n",
    "    return formula_answer\n",
    "\n",
    "print(find_roots(2, 10, 8));"
   ]
  },
  {
   "cell_type": "code",
   "execution_count": 11,
   "metadata": {},
   "outputs": [
    {
     "name": "stdout",
     "output_type": "stream",
     "text": [
      "[['vanilla', 'chocolate sauce'], ['chocolate', 'chocolate sauce']]\n"
     ]
    }
   ],
   "source": [
    "class IceCreamMachine:\n",
    "    \n",
    "    def __init__(self, ingredients, toppings):\n",
    "        self.ingredients = ingredients\n",
    "        self.toppings = toppings\n",
    "        \n",
    "    def scoops(self):\n",
    "        list_scoops = list()\n",
    "        for ingredient in self.ingredients:\n",
    "            for topping in self.toppings:\n",
    "                list_scoops.append([ingredient,topping])\n",
    "        return list_scoops\n",
    "    \n",
    "if __name__ == \"__main__\":\n",
    "    machine = IceCreamMachine([\"vanilla\", \"chocolate\"], [\"chocolate sauce\"])\n",
    "    print(machine.scoops()) #should print: [['vanilla', 'chocolate sauce'], ['chocolate', 'chocolate sauce']]"
   ]
  },
  {
   "cell_type": "code",
   "execution_count": 17,
   "metadata": {},
   "outputs": [
    {
     "name": "stdout",
     "output_type": "stream",
     "text": [
      "(-1.0, -4.0)\n"
     ]
    }
   ],
   "source": [
    "def find_roots(a, b, c):\n",
    "    # formula X1,2 = -b +- root(b**2 -4ac)/2*a\n",
    "    discriminant = (b**2 - 4*a*c)**0.5\n",
    "    \n",
    "    root1 = (-b + (discriminant)) / (2*a)\n",
    "    root2 = (-b - (discriminant)) / (2*a)\n",
    "    \n",
    "    return (root1,root2)\n",
    "\n",
    "print(find_roots(2, 10, 8));"
   ]
  },
  {
   "cell_type": "code",
   "execution_count": 1,
   "metadata": {},
   "outputs": [
    {
     "name": "stdout",
     "output_type": "stream",
     "text": [
      "                                  2015\n",
      "\n",
      "      January                   February                   March\n",
      "Su Mo Tu We Th Fr Sa      Su Mo Tu We Th Fr Sa      Su Mo Tu We Th Fr Sa\n",
      "             1  2  3       1  2  3  4  5  6  7       1  2  3  4  5  6  7\n",
      " 4  5  6  7  8  9 10       8  9 10 11 12 13 14       8  9 10 11 12 13 14\n",
      "11 12 13 14 15 16 17      15 16 17 18 19 20 21      15 16 17 18 19 20 21\n",
      "18 19 20 21 22 23 24      22 23 24 25 26 27 28      22 23 24 25 26 27 28\n",
      "25 26 27 28 29 30 31                                29 30 31\n",
      "\n",
      "       April                      May                       June\n",
      "Su Mo Tu We Th Fr Sa      Su Mo Tu We Th Fr Sa      Su Mo Tu We Th Fr Sa\n",
      "          1  2  3  4                      1  2          1  2  3  4  5  6\n",
      " 5  6  7  8  9 10 11       3  4  5  6  7  8  9       7  8  9 10 11 12 13\n",
      "12 13 14 15 16 17 18      10 11 12 13 14 15 16      14 15 16 17 18 19 20\n",
      "19 20 21 22 23 24 25      17 18 19 20 21 22 23      21 22 23 24 25 26 27\n",
      "26 27 28 29 30            24 25 26 27 28 29 30      28 29 30\n",
      "                          31\n",
      "\n",
      "        July                     August                  September\n",
      "Su Mo Tu We Th Fr Sa      Su Mo Tu We Th Fr Sa      Su Mo Tu We Th Fr Sa\n",
      "          1  2  3  4                         1             1  2  3  4  5\n",
      " 5  6  7  8  9 10 11       2  3  4  5  6  7  8       6  7  8  9 10 11 12\n",
      "12 13 14 15 16 17 18       9 10 11 12 13 14 15      13 14 15 16 17 18 19\n",
      "19 20 21 22 23 24 25      16 17 18 19 20 21 22      20 21 22 23 24 25 26\n",
      "26 27 28 29 30 31         23 24 25 26 27 28 29      27 28 29 30\n",
      "                          30 31\n",
      "\n",
      "      October                   November                  December\n",
      "Su Mo Tu We Th Fr Sa      Su Mo Tu We Th Fr Sa      Su Mo Tu We Th Fr Sa\n",
      "             1  2  3       1  2  3  4  5  6  7             1  2  3  4  5\n",
      " 4  5  6  7  8  9 10       8  9 10 11 12 13 14       6  7  8  9 10 11 12\n",
      "11 12 13 14 15 16 17      15 16 17 18 19 20 21      13 14 15 16 17 18 19\n",
      "18 19 20 21 22 23 24      22 23 24 25 26 27 28      20 21 22 23 24 25 26\n",
      "25 26 27 28 29 30 31      29 30                     27 28 29 30 31\n",
      "\n"
     ]
    }
   ],
   "source": [
    "import calendar\n",
    "print (calendar.TextCalendar(firstweekday=6).formatyear(2015))"
   ]
  },
  {
   "cell_type": "code",
   "execution_count": 19,
   "metadata": {},
   "outputs": [
    {
     "name": "stdout",
     "output_type": "stream",
     "text": [
      "2\n"
     ]
    }
   ],
   "source": [
    "# Year Month Day\n",
    "print(calendar.weekday(2015,8,5))\n",
    "#Month Day Year"
   ]
  },
  {
   "cell_type": "code",
   "execution_count": 28,
   "metadata": {},
   "outputs": [
    {
     "name": "stdout",
     "output_type": "stream",
     "text": [
      "THURSTDAY\n"
     ]
    }
   ],
   "source": [
    "def nameofday(n):\n",
    "    day = ['Monday','Tuesday','Wednesday','Thursday','Friday','Saturday','Sunday']\n",
    "    return day[n].upper()\n",
    "    \n",
    "if __name__ == '__main__':\n",
    "    date_input = list(map(int,input().split()))\n",
    "    year = date_input[2]\n",
    "    month = date_input[0]\n",
    "    day = date_input[1]\n",
    "    print(nameofday(calendar.weekday(year,month,day)))"
   ]
  },
  {
   "cell_type": "code",
   "execution_count": 9,
   "metadata": {},
   "outputs": [
    {
     "data": {
      "text/plain": [
       "8"
      ]
     },
     "execution_count": 9,
     "metadata": {},
     "output_type": "execute_result"
    }
   ],
   "source": [
    "month"
   ]
  },
  {
   "cell_type": "code",
   "execution_count": null,
   "metadata": {},
   "outputs": [],
   "source": [
    "# if __name__ == '__main__':\n",
    "#     num_test_cases = int(input())\n",
    "\n",
    "#     for _ in range(num_test_cases):\n",
    "#         n_A = int(input())\n",
    "#         set_A = set(map(int, input().split()))\n",
    "        \n",
    "#         n_B = int(input())\n",
    "#         set_B = set(map(int, input().split()))\n",
    "\n",
    "#         result = is_subset(set_A, set_B)\n",
    "#         print(result)"
   ]
  },
  {
   "cell_type": "code",
   "execution_count": 7,
   "metadata": {},
   "outputs": [
    {
     "data": {
      "text/plain": [
       "[2]"
      ]
     },
     "execution_count": 7,
     "metadata": {},
     "output_type": "execute_result"
    }
   ],
   "source": [
    "def sym(a,b):\n",
    "    list_sym = []\n",
    "    for x in a:\n",
    "        if x not in b:\n",
    "            list_sym.append(x)   \n",
    "    return list_sym\n",
    "\n",
    "sym([1, 2, 3], [1, 3, 4])"
   ]
  },
  {
   "cell_type": "code",
   "execution_count": 9,
   "metadata": {},
   "outputs": [
    {
     "data": {
      "text/plain": [
       "[11, 12, 22, 25, 34, 64, 90]"
      ]
     },
     "execution_count": 9,
     "metadata": {},
     "output_type": "execute_result"
    }
   ],
   "source": [
    "# Bubble sort\n",
    "def bubbleSort(arr):\n",
    "    n = len(arr)\n",
    "    for i in range(n):\n",
    "        for j in range(0, n-i-1): # Last i elements are already in place\n",
    "            if arr[j] > arr[j+1] : # Swap if the element found is greater than the next element\n",
    "                arr[j], arr[j+1] = arr[j+1], arr[j]\n",
    "    return arr\n",
    "# Driver code to test above\n",
    "arr = [64, 34, 25, 12, 22, 11, 90]\n",
    "bubbleSort(arr)"
   ]
  },
  {
   "cell_type": "code",
   "execution_count": 4,
   "metadata": {},
   "outputs": [
    {
     "data": {
      "text/plain": [
       "'0'"
      ]
     },
     "execution_count": 4,
     "metadata": {},
     "output_type": "execute_result"
    }
   ],
   "source": [
    "x = 10\n",
    "str(x)[1]\n"
   ]
  },
  {
   "cell_type": "code",
   "execution_count": 6,
   "metadata": {},
   "outputs": [
    {
     "name": "stdout",
     "output_type": "stream",
     "text": [
      "567 ns ± 5.04 ns per loop (mean ± std. dev. of 7 runs, 1,000,000 loops each)\n"
     ]
    }
   ],
   "source": [
    "class Solution:\n",
    "    def isPalindrome(self, x: int) -> bool:\n",
    "        return str(x) == str(x)[::-1]\n",
    "\n",
    "\n",
    "# print runtime\n",
    "Solution().isPalindrome(121)"
   ]
  },
  {
   "cell_type": "code",
   "execution_count": 17,
   "metadata": {},
   "outputs": [
    {
     "name": "stdout",
     "output_type": "stream",
     "text": [
      "Result: True\n",
      "Runtime: 0.0628 ms\n"
     ]
    }
   ],
   "source": [
    "import time\n",
    "\n",
    "class Solution:\n",
    "    def isPalindrome(self, x: int) -> bool:\n",
    "        return str(x) == str(x)[::-1]\n",
    "\n",
    "# Test the runtime\n",
    "input_value = 12321  # Change the input as needed\n",
    "\n",
    "start_time = time.perf_counter()\n",
    "solution = Solution()\n",
    "result = solution.isPalindrome(input_value)\n",
    "end_time = time.perf_counter()\n",
    "\n",
    "runtime = (end_time - start_time) * 1000  # Convert to milliseconds\n",
    "print(\"Result:\", result)\n",
    "print(\"Runtime: {:.4f} ms\".format(runtime))"
   ]
  },
  {
   "cell_type": "code",
   "execution_count": null,
   "metadata": {},
   "outputs": [],
   "source": [
    "class Solution:\n",
    "    def romanToInt(self, s: str) -> int:\n",
    "        dictionary = {'I': 1, 'V': 5, 'X': 10, 'L': 50, 'C': 100, 'D': 500, 'M': 1000}\n",
    "        dictionary2 = {'IV': 4, 'IX': 9, 'XL': 40, 'XC': 90, 'CD': 400, 'CM': 900}\n",
    "        sum = 0\n",
    "        i = 0\n",
    "        while i < len(s):\n",
    "            if i + 1 < len(s) and s[i:i + 2] in dictionary2:\n",
    "                sum += dictionary2[s[i:i + 2]]\n",
    "                i += 2\n",
    "            else:\n",
    "                sum += dictionary[s[i]]\n",
    "                i += 1\n",
    "        return sum"
   ]
  },
  {
   "cell_type": "code",
   "execution_count": 25,
   "metadata": {},
   "outputs": [],
   "source": [
    "class Node:\n",
    "    def __init__(self, data):\n",
    "        self.data = data\n",
    "        self.next = None\n",
    "\n",
    "class LinkedList:\n",
    "    def __init__(self, head=None):\n",
    "        self.head = head\n",
    "        \n",
    "    def append(self, new_element):\n",
    "        current = self.head\n",
    "        if self.head:\n",
    "            while current.next:\n",
    "                current = current.next\n",
    "            current.next = new_element\n",
    "        else:\n",
    "            self.head = new_element\n",
    "            \n",
    "    def get_position(self, position):\n",
    "        current = self.head\n",
    "        for i in range(1, position):\n",
    "            current = current.next\n",
    "        return current\n",
    "    \n",
    "    def delete(self, value):\n",
    "        current = self.head\n",
    "        if current.data == value:\n",
    "            self.head = current.next\n",
    "        else:\n",
    "            while current:\n",
    "                if current.value == value:\n",
    "                    break\n",
    "                prev = current\n",
    "                current = current.next\n",
    "            if current == None:\n",
    "                return\n",
    "            prev.next = current.next\n",
    "            current = None\n",
    "        \n",
    "    def insert(self, new_element, position):\n",
    "        \"\"\"Insert a new node at the given position.\n",
    "        Assume the first position is \"1\".\n",
    "        Inserting at position 3 means between\n",
    "        the 2nd and 3rd elements.\"\"\"\n",
    "        count=1\n",
    "        current = self.head\n",
    "        if position == 1:\n",
    "            new_element.next = self.head\n",
    "            self.head = new_element\n",
    "        while current:\n",
    "            if count+1 == position:\n",
    "                new_element.next =current.next\n",
    "                current.next = new_element\n",
    "                return\n",
    "            else:\n",
    "                count+=1\n",
    "                current = current.next\n",
    "            # break\n",
    "\n",
    "        pass\n",
    "    \n",
    "    def print(self):\n",
    "        current = self.head\n",
    "        while current:\n",
    "            print(current.value)\n",
    "            current = current.next"
   ]
  },
  {
   "cell_type": "code",
   "execution_count": 28,
   "metadata": {},
   "outputs": [],
   "source": [
    "e1 = Node(1)\n",
    "e2 = Node(2)\n",
    "e3 = Node(3)\n",
    "e4 = Node(4)\n",
    "\n",
    "ll = LinkedList()\n",
    "ll.append(e1)\n",
    "ll.append(e2)\n",
    "ll.append(e3)\n",
    "ll.append(e4)"
   ]
  },
  {
   "cell_type": "code",
   "execution_count": 30,
   "metadata": {},
   "outputs": [
    {
     "ename": "NameError",
     "evalue": "name 'Optional' is not defined",
     "output_type": "error",
     "traceback": [
      "\u001b[1;31m---------------------------------------------------------------------------\u001b[0m",
      "\u001b[1;31mNameError\u001b[0m                                 Traceback (most recent call last)",
      "Cell \u001b[1;32mIn[30], line 6\u001b[0m\n\u001b[0;32m      3\u001b[0m         \u001b[39mself\u001b[39m\u001b[39m.\u001b[39mval \u001b[39m=\u001b[39m val\n\u001b[0;32m      4\u001b[0m         \u001b[39mself\u001b[39m\u001b[39m.\u001b[39mnext \u001b[39m=\u001b[39m \u001b[39mnext\u001b[39m\n\u001b[1;32m----> 6\u001b[0m \u001b[39mclass\u001b[39;00m \u001b[39mSolution\u001b[39;00m:\n\u001b[0;32m      7\u001b[0m     \u001b[39mdef\u001b[39;00m \u001b[39mreverseList\u001b[39m(\u001b[39mself\u001b[39m, head: Optional[ListNode]) \u001b[39m-\u001b[39m\u001b[39m>\u001b[39m Optional[ListNode]:\n\u001b[0;32m      8\u001b[0m         prev \u001b[39m=\u001b[39m \u001b[39mNone\u001b[39;00m\n",
      "Cell \u001b[1;32mIn[30], line 7\u001b[0m, in \u001b[0;36mSolution\u001b[1;34m()\u001b[0m\n\u001b[0;32m      6\u001b[0m \u001b[39mclass\u001b[39;00m \u001b[39mSolution\u001b[39;00m:\n\u001b[1;32m----> 7\u001b[0m     \u001b[39mdef\u001b[39;00m \u001b[39mreverseList\u001b[39m(\u001b[39mself\u001b[39m, head: Optional[ListNode]) \u001b[39m-\u001b[39m\u001b[39m>\u001b[39m Optional[ListNode]:\n\u001b[0;32m      8\u001b[0m         prev \u001b[39m=\u001b[39m \u001b[39mNone\u001b[39;00m\n\u001b[0;32m      9\u001b[0m         curr \u001b[39m=\u001b[39m head\n",
      "\u001b[1;31mNameError\u001b[0m: name 'Optional' is not defined"
     ]
    }
   ],
   "source": [
    "class ListNode:\n",
    "    def __init__(self, val=0, next=None):\n",
    "        self.val = val\n",
    "        self.next = next\n",
    "        \n",
    "class Solution:\n",
    "    def reverseList(self, head: Optional[ListNode]) -> Optional[ListNode]:\n",
    "        prev = None\n",
    "        curr = head\n",
    "        while curr:\n",
    "            next = curr.next\n",
    "            curr.next = prev\n",
    "            prev = curr\n",
    "            curr = next\n",
    "        return prev\n"
   ]
  },
  {
   "cell_type": "code",
   "execution_count": 31,
   "metadata": {},
   "outputs": [],
   "source": [
    "class ListNode:\n",
    "    def __init__(self, val=0, next=None):\n",
    "        self.val = val\n",
    "        self.next = next\n",
    "        \n",
    "class Solution:\n",
    "    def hasCycle(self, head: ListNode) -> bool:\n",
    "        if head is None:\n",
    "            return False\n",
    "        \n",
    "        slow = head\n",
    "        fast = head.next\n",
    "        \n",
    "        while slow != fast:\n",
    "            if fast is None or fast.next is None:\n",
    "                return False\n",
    "            \n",
    "            slow = slow.next\n",
    "            fast = fast.next.next\n",
    "            \n",
    "        return True"
   ]
  },
  {
   "cell_type": "code",
   "execution_count": null,
   "metadata": {},
   "outputs": [],
   "source": [
    "def palindrome(word):\n",
    "    word = word.lower()\n",
    "    return word[::-1] == word\n",
    "\n",
    "class ListNode:\n",
    "    def __init__(self, val=0, next=None):\n",
    "        self.val = val\n",
    "        self.next = next\n",
    "        \n",
    "class Solution:\n",
    "    def isPalindrome(self, head: ListNode) -> bool:\n",
    "        if head is None:\n",
    "            return True\n",
    "        if head.next is None:\n",
    "            return True\n",
    "        if head.next.next is None:\n",
    "            return head.val == head.next.val\n",
    "        \n",
    "        # find middle\n",
    "        slow = head\n",
    "        fast = head\n",
    "        while fast.next is not None and fast.next.next is not None:\n",
    "            slow = slow.next\n",
    "            fast = fast.next.next\n",
    "        # reverse second half\n",
    "        prev = None\n",
    "        curr = slow.next\n",
    "        while curr is not None:\n",
    "            next = curr.next\n",
    "            curr.next = prev\n",
    "            prev = curr\n",
    "            curr = next\n",
    "        # compare\n",
    "        curr = prev\n",
    "        while curr is not None:\n",
    "            if curr.val != head.val:\n",
    "                return False\n",
    "            curr = curr.next\n",
    "            head = head.next\n",
    "        return True"
   ]
  },
  {
   "cell_type": "code",
   "execution_count": 1,
   "metadata": {},
   "outputs": [
    {
     "data": {
      "text/plain": [
       "'fl'"
      ]
     },
     "execution_count": 1,
     "metadata": {},
     "output_type": "execute_result"
    }
   ],
   "source": [
    "strs = [\"flower\",\"flow\",\"flight\"]\n",
    "def longestCommonPrefix(strs):\n",
    "    first = strs[0]\n",
    "    for x in range(1,len(strs)):\n",
    "        while strs[x].find(first) != 0:\n",
    "            first = first[:-1]\n",
    "    return first\n",
    "\n",
    "longestCommonPrefix(strs)"
   ]
  },
  {
   "cell_type": "code",
   "execution_count": 2,
   "metadata": {},
   "outputs": [
    {
     "name": "stdout",
     "output_type": "stream",
     "text": [
      "Before bubble sort: [64, 34, 25, 12, 22, 11, 90]\n",
      "After bubble sort:[11, 12, 22, 25, 34, 64, 90]\n"
     ]
    }
   ],
   "source": [
    "# Bubble Sort\n",
    "arr = [64, 34, 25, 12, 22, 11, 90]\n",
    "print(f'Before bubble sort: {arr}')\n",
    "def bubblesort(arr):\n",
    "    n = len(arr)\n",
    "    for i in range(n):\n",
    "        for j in range(0, n-i-1):\n",
    "            if arr[j] > arr[j+1] :\n",
    "                arr[j], arr[j+1] = arr[j+1], arr[j]\n",
    "    return arr\n",
    "\n",
    "print(f'After bubble sort:{bubblesort(arr)}')"
   ]
  },
  {
   "cell_type": "code",
   "execution_count": 14,
   "metadata": {},
   "outputs": [
    {
     "name": "stdout",
     "output_type": "stream",
     "text": [
      "Before [64, 34, 25, 12, 22, 11, 90]\n",
      "Index of 12 is 3\n"
     ]
    }
   ],
   "source": [
    "arr = [64, 34, 25, 12, 22, 11, 90]\n",
    "print(f'Before {arr}')\n",
    "\n",
    "def search(arr,x):\n",
    "    for i in range(len(arr)):\n",
    "        if arr[i] == x:\n",
    "            return i\n",
    "    return -1\n",
    "\n",
    "print(f'Index of 12 is {search(arr,12)}')"
   ]
  },
  {
   "cell_type": "code",
   "execution_count": 9,
   "metadata": {},
   "outputs": [
    {
     "name": "stdout",
     "output_type": "stream",
     "text": [
      "A book is created\n",
      "A book is created\n",
      "A library is created\n",
      "A book is destroyed\n",
      "A book is destroyed\n"
     ]
    },
    {
     "data": {
      "text/plain": [
       "2"
      ]
     },
     "execution_count": 9,
     "metadata": {},
     "output_type": "execute_result"
    }
   ],
   "source": [
    "class Book():\n",
    "    def __init__(self, title, author, pages):\n",
    "        print(\"A book is created\")\n",
    "        self.title = title\n",
    "        self.author = author\n",
    "        self.pages = pages\n",
    "    def __str__(self):\n",
    "        return \"Title:%s , author:%s, pages:%s \" %(self.title, self.author, self.pages)\n",
    "    def __len__(self):\n",
    "        return self.pages\n",
    "    def __del__(self):\n",
    "        print(\"A book is destroyed\")\n",
    "        \n",
    "class Library():\n",
    "    def __init__(self):\n",
    "        print(\"A library is created\")\n",
    "        self.books = []\n",
    "    def __str__(self):\n",
    "        return \"Books in library: %s\" %(len(self.books))\n",
    "    def __len__(self):\n",
    "        return len(self.books)\n",
    "    def addBook(self, book):\n",
    "        self.books.append(book)\n",
    "    def removeBook(self, book):\n",
    "        self.books.remove(book)\n",
    "\n",
    "b1 = Book(\"Python\", \"Guido\", 300)\n",
    "b2 = Book(\"Java\", \"James\", 500)\n",
    "library_user = Library()\n",
    "library_user.addBook(b1)\n",
    "library_user.addBook(b2)\n",
    "library_user.__len__()"
   ]
  },
  {
   "cell_type": "code",
   "execution_count": 15,
   "metadata": {},
   "outputs": [
    {
     "name": "stdout",
     "output_type": "stream",
     "text": [
      "8.19\n"
     ]
    }
   ],
   "source": [
    "import math\n",
    "\n",
    "class Points(object):\n",
    "    def __init__(self, x, y, z):\n",
    "        self.x = x\n",
    "        self.y = y\n",
    "        self.z = z\n",
    "    def __sub__(self, no):\n",
    "        return Points((self.x-no.x),(self.y-no.y),(self.z-no.z))\n",
    "    def dot(self, no):\n",
    "        return ((self.x*no.x)+(self.y*no.y)+(self.z*no.z))\n",
    "    def cross(self, no):\n",
    "        return Points((self.y*no.z-self.z*no.y),(self.z*no.x-self.x*no.z),(self.x*no.y-self.y*no.x))\n",
    "    def absolute(self):\n",
    "        return pow((self.x ** 2 + self.y ** 2 + self.z ** 2), 0.5)\n",
    "\n",
    "if __name__ == '__main__':\n",
    "    points = list()\n",
    "    for i in range(4):\n",
    "        a = list(map(float, input().split()))\n",
    "        points.append(a)\n",
    "\n",
    "    a, b, c, d = Points(*points[0]), Points(*points[1]), Points(*points[2]), Points(*points[3])\n",
    "    x = (b - a).cross(c - b)\n",
    "    y = (c - b).cross(d - c)\n",
    "    angle = math.acos(x.dot(y) / (x.absolute() * y.absolute()))\n",
    "\n",
    "    print(\"%.2f\" % math.degrees(angle))"
   ]
  },
  {
   "cell_type": "code",
   "execution_count": null,
   "metadata": {},
   "outputs": [],
   "source": []
  }
 ],
 "metadata": {
  "kernelspec": {
   "display_name": "base",
   "language": "python",
   "name": "python3"
  },
  "language_info": {
   "codemirror_mode": {
    "name": "ipython",
    "version": 3
   },
   "file_extension": ".py",
   "mimetype": "text/x-python",
   "name": "python",
   "nbconvert_exporter": "python",
   "pygments_lexer": "ipython3",
   "version": "3.10.10"
  },
  "orig_nbformat": 4
 },
 "nbformat": 4,
 "nbformat_minor": 2
}
