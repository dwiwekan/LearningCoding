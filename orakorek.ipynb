{
 "cells": [
  {
   "cell_type": "code",
   "execution_count": 2,
   "metadata": {},
   "outputs": [
    {
     "data": {
      "text/plain": [
       "'Hello World'"
      ]
     },
     "execution_count": 2,
     "metadata": {},
     "output_type": "execute_result"
    }
   ],
   "source": [
    "#!/bin/python3\n",
    "\n",
    "import math\n",
    "import os\n",
    "import random\n",
    "import re\n",
    "import sys\n",
    "\n",
    "# Complete the solve function below.\n",
    "def solve(s):\n",
    "    for i in s.split():\n",
    "        s = s.replace(i,i.capitalize())\n",
    "    return s\n",
    "\n",
    "solve(\"hello world\") "
   ]
  },
  {
   "cell_type": "code",
   "execution_count": 3,
   "metadata": {},
   "outputs": [
    {
     "data": {
      "text/plain": [
       "'1 W 2 R 3g'"
      ]
     },
     "execution_count": 3,
     "metadata": {},
     "output_type": "execute_result"
    }
   ],
   "source": [
    "solve(\"1 w 2 r 3g\")"
   ]
  },
  {
   "cell_type": "code",
   "execution_count": 4,
   "metadata": {},
   "outputs": [],
   "source": [
    "def minion_game(string):\n",
    "    stuart = 0\n",
    "    kevin = 0\n",
    "    for i in range(len(string)):\n",
    "        if string[i] in 'AEIOU':\n",
    "            kevin += len(string) - i\n",
    "        else:\n",
    "            stuart += len(string) - i\n",
    "    \n",
    "    if stuart > kevin:\n",
    "        print('Stuart', stuart)\n",
    "    elif stuart < kevin:\n",
    "        print('Kevin', kevin)\n",
    "    else:\n",
    "        print('Draw')"
   ]
  },
  {
   "cell_type": "code",
   "execution_count": 13,
   "metadata": {},
   "outputs": [
    {
     "name": "stdout",
     "output_type": "stream",
     "text": [
      "Stuart 6\n"
     ]
    }
   ],
   "source": [
    "minion_game('Ayam')"
   ]
  },
  {
   "cell_type": "code",
   "execution_count": 18,
   "metadata": {},
   "outputs": [],
   "source": [
    "def is_subset(set_A, set_B):\n",
    "    return set_A.issubset(set_B)"
   ]
  },
  {
   "cell_type": "code",
   "execution_count": 22,
   "metadata": {},
   "outputs": [
    {
     "name": "stdout",
     "output_type": "stream",
     "text": [
      "True\n",
      "True\n"
     ]
    }
   ],
   "source": [
    "if __name__ == '__main__':\n",
    "    num_test_cases = int(input())\n",
    "\n",
    "    for _ in range(num_test_cases):\n",
    "        n_A = int(input())\n",
    "        set_A = set(map(int, input().split()))\n",
    "        \n",
    "        n_B = int(input())\n",
    "        set_B = set(map(int, input().split()))\n",
    "\n",
    "        result = is_subset(set_A, set_B)\n",
    "        print(result)"
   ]
  },
  {
   "cell_type": "code",
   "execution_count": 2,
   "metadata": {},
   "outputs": [
    {
     "name": "stdout",
     "output_type": "stream",
     "text": [
      "{'Randy': ['Input.txt', 'Output.txt'], 'Stan': ['Code.py']}\n"
     ]
    }
   ],
   "source": [
    "def group_by_owners(files):\n",
    "    files_dict = {}\n",
    "    for key, value in files.items():\n",
    "        if value in files_dict:\n",
    "            files_dict[value].append(key)\n",
    "        else:\n",
    "            files_dict[value] = [key]\n",
    "    return files_dict\n",
    "\n",
    "if __name__ == \"__main__\":    \n",
    "    files = {\n",
    "        'Input.txt': 'Randy',\n",
    "        'Code.py': 'Stan',\n",
    "        'Output.txt': 'Randy'\n",
    "    }   \n",
    "    print(group_by_owners(files))"
   ]
  },
  {
   "cell_type": "code",
   "execution_count": 7,
   "metadata": {},
   "outputs": [
    {
     "name": "stdout",
     "output_type": "stream",
     "text": [
      "(-1.0, -4.0)\n"
     ]
    }
   ],
   "source": [
    "def find_roots(a, b, c):\n",
    "    formula_answer = ()\n",
    "    discriminant = b**2 - 4*a*c\n",
    "    \n",
    "    if discriminant >= 0:\n",
    "        root1 = (-b + (discriminant)**0.5) / (2*a)\n",
    "        root2 = (-b - (discriminant)**0.5) / (2*a)\n",
    "        formula_answer = (root1, root2)\n",
    "    \n",
    "    return formula_answer\n",
    "\n",
    "print(find_roots(2, 10, 8));"
   ]
  },
  {
   "cell_type": "code",
   "execution_count": 11,
   "metadata": {},
   "outputs": [
    {
     "name": "stdout",
     "output_type": "stream",
     "text": [
      "[['vanilla', 'chocolate sauce'], ['chocolate', 'chocolate sauce']]\n"
     ]
    }
   ],
   "source": [
    "class IceCreamMachine:\n",
    "    \n",
    "    def __init__(self, ingredients, toppings):\n",
    "        self.ingredients = ingredients\n",
    "        self.toppings = toppings\n",
    "        \n",
    "    def scoops(self):\n",
    "        list_scoops = list()\n",
    "        for ingredient in self.ingredients:\n",
    "            for topping in self.toppings:\n",
    "                list_scoops.append([ingredient,topping])\n",
    "        return list_scoops\n",
    "    \n",
    "if __name__ == \"__main__\":\n",
    "    machine = IceCreamMachine([\"vanilla\", \"chocolate\"], [\"chocolate sauce\"])\n",
    "    print(machine.scoops()) #should print: [['vanilla', 'chocolate sauce'], ['chocolate', 'chocolate sauce']]"
   ]
  },
  {
   "cell_type": "code",
   "execution_count": 17,
   "metadata": {},
   "outputs": [
    {
     "name": "stdout",
     "output_type": "stream",
     "text": [
      "(-1.0, -4.0)\n"
     ]
    }
   ],
   "source": [
    "def find_roots(a, b, c):\n",
    "    # formula X1,2 = -b +- root(b**2 -4ac)/2*a\n",
    "    discriminant = (b**2 - 4*a*c)**0.5\n",
    "    \n",
    "    root1 = (-b + (discriminant)) / (2*a)\n",
    "    root2 = (-b - (discriminant)) / (2*a)\n",
    "    \n",
    "    return (root1,root2)\n",
    "\n",
    "print(find_roots(2, 10, 8));"
   ]
  },
  {
   "cell_type": "code",
   "execution_count": 1,
   "metadata": {},
   "outputs": [
    {
     "name": "stdout",
     "output_type": "stream",
     "text": [
      "                                  2015\n",
      "\n",
      "      January                   February                   March\n",
      "Su Mo Tu We Th Fr Sa      Su Mo Tu We Th Fr Sa      Su Mo Tu We Th Fr Sa\n",
      "             1  2  3       1  2  3  4  5  6  7       1  2  3  4  5  6  7\n",
      " 4  5  6  7  8  9 10       8  9 10 11 12 13 14       8  9 10 11 12 13 14\n",
      "11 12 13 14 15 16 17      15 16 17 18 19 20 21      15 16 17 18 19 20 21\n",
      "18 19 20 21 22 23 24      22 23 24 25 26 27 28      22 23 24 25 26 27 28\n",
      "25 26 27 28 29 30 31                                29 30 31\n",
      "\n",
      "       April                      May                       June\n",
      "Su Mo Tu We Th Fr Sa      Su Mo Tu We Th Fr Sa      Su Mo Tu We Th Fr Sa\n",
      "          1  2  3  4                      1  2          1  2  3  4  5  6\n",
      " 5  6  7  8  9 10 11       3  4  5  6  7  8  9       7  8  9 10 11 12 13\n",
      "12 13 14 15 16 17 18      10 11 12 13 14 15 16      14 15 16 17 18 19 20\n",
      "19 20 21 22 23 24 25      17 18 19 20 21 22 23      21 22 23 24 25 26 27\n",
      "26 27 28 29 30            24 25 26 27 28 29 30      28 29 30\n",
      "                          31\n",
      "\n",
      "        July                     August                  September\n",
      "Su Mo Tu We Th Fr Sa      Su Mo Tu We Th Fr Sa      Su Mo Tu We Th Fr Sa\n",
      "          1  2  3  4                         1             1  2  3  4  5\n",
      " 5  6  7  8  9 10 11       2  3  4  5  6  7  8       6  7  8  9 10 11 12\n",
      "12 13 14 15 16 17 18       9 10 11 12 13 14 15      13 14 15 16 17 18 19\n",
      "19 20 21 22 23 24 25      16 17 18 19 20 21 22      20 21 22 23 24 25 26\n",
      "26 27 28 29 30 31         23 24 25 26 27 28 29      27 28 29 30\n",
      "                          30 31\n",
      "\n",
      "      October                   November                  December\n",
      "Su Mo Tu We Th Fr Sa      Su Mo Tu We Th Fr Sa      Su Mo Tu We Th Fr Sa\n",
      "             1  2  3       1  2  3  4  5  6  7             1  2  3  4  5\n",
      " 4  5  6  7  8  9 10       8  9 10 11 12 13 14       6  7  8  9 10 11 12\n",
      "11 12 13 14 15 16 17      15 16 17 18 19 20 21      13 14 15 16 17 18 19\n",
      "18 19 20 21 22 23 24      22 23 24 25 26 27 28      20 21 22 23 24 25 26\n",
      "25 26 27 28 29 30 31      29 30                     27 28 29 30 31\n",
      "\n"
     ]
    }
   ],
   "source": [
    "import calendar\n",
    "print (calendar.TextCalendar(firstweekday=6).formatyear(2015))"
   ]
  },
  {
   "cell_type": "code",
   "execution_count": 19,
   "metadata": {},
   "outputs": [
    {
     "name": "stdout",
     "output_type": "stream",
     "text": [
      "2\n"
     ]
    }
   ],
   "source": [
    "# Year Month Day\n",
    "print(calendar.weekday(2015,8,5))\n",
    "#Month Day Year"
   ]
  },
  {
   "cell_type": "code",
   "execution_count": 28,
   "metadata": {},
   "outputs": [
    {
     "name": "stdout",
     "output_type": "stream",
     "text": [
      "THURSTDAY\n"
     ]
    }
   ],
   "source": [
    "def nameofday(n):\n",
    "    day = ['Monday','Tuesday','Wednesday','Thursday','Friday','Saturday','Sunday']\n",
    "    return day[n].upper()\n",
    "    \n",
    "if __name__ == '__main__':\n",
    "    date_input = list(map(int,input().split()))\n",
    "    year = date_input[2]\n",
    "    month = date_input[0]\n",
    "    day = date_input[1]\n",
    "    print(nameofday(calendar.weekday(year,month,day)))"
   ]
  },
  {
   "cell_type": "code",
   "execution_count": 9,
   "metadata": {},
   "outputs": [
    {
     "data": {
      "text/plain": [
       "8"
      ]
     },
     "execution_count": 9,
     "metadata": {},
     "output_type": "execute_result"
    }
   ],
   "source": [
    "month"
   ]
  },
  {
   "cell_type": "code",
   "execution_count": null,
   "metadata": {},
   "outputs": [],
   "source": [
    "# if __name__ == '__main__':\n",
    "#     num_test_cases = int(input())\n",
    "\n",
    "#     for _ in range(num_test_cases):\n",
    "#         n_A = int(input())\n",
    "#         set_A = set(map(int, input().split()))\n",
    "        \n",
    "#         n_B = int(input())\n",
    "#         set_B = set(map(int, input().split()))\n",
    "\n",
    "#         result = is_subset(set_A, set_B)\n",
    "#         print(result)"
   ]
  },
  {
   "cell_type": "code",
   "execution_count": 7,
   "metadata": {},
   "outputs": [
    {
     "data": {
      "text/plain": [
       "[2]"
      ]
     },
     "execution_count": 7,
     "metadata": {},
     "output_type": "execute_result"
    }
   ],
   "source": [
    "def sym(a,b):\n",
    "    list_sym = []\n",
    "    for x in a:\n",
    "        if x not in b:\n",
    "            list_sym.append(x)   \n",
    "    return list_sym\n",
    "\n",
    "sym([1, 2, 3], [1, 3, 4])"
   ]
  },
  {
   "cell_type": "code",
   "execution_count": 9,
   "metadata": {},
   "outputs": [
    {
     "data": {
      "text/plain": [
       "[11, 12, 22, 25, 34, 64, 90]"
      ]
     },
     "execution_count": 9,
     "metadata": {},
     "output_type": "execute_result"
    }
   ],
   "source": [
    "# Bubble sort\n",
    "def bubbleSort(arr):\n",
    "    n = len(arr)\n",
    "    for i in range(n):\n",
    "        for j in range(0, n-i-1): # Last i elements are already in place\n",
    "            if arr[j] > arr[j+1] : # Swap if the element found is greater than the next element\n",
    "                arr[j], arr[j+1] = arr[j+1], arr[j]\n",
    "    return arr\n",
    "# Driver code to test above\n",
    "arr = [64, 34, 25, 12, 22, 11, 90]\n",
    "bubbleSort(arr)"
   ]
  },
  {
   "cell_type": "code",
   "execution_count": null,
   "metadata": {},
   "outputs": [],
   "source": []
  }
 ],
 "metadata": {
  "kernelspec": {
   "display_name": "base",
   "language": "python",
   "name": "python3"
  },
  "language_info": {
   "codemirror_mode": {
    "name": "ipython",
    "version": 3
   },
   "file_extension": ".py",
   "mimetype": "text/x-python",
   "name": "python",
   "nbconvert_exporter": "python",
   "pygments_lexer": "ipython3",
   "version": "3.10.10"
  },
  "orig_nbformat": 4
 },
 "nbformat": 4,
 "nbformat_minor": 2
}
