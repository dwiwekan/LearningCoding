{
 "cells": [
  {
   "cell_type": "code",
   "execution_count": 1,
   "metadata": {},
   "outputs": [],
   "source": [
    "class Solution:\n",
    "    def fib(self, n: int) -> int:\n",
    "        a,b = 0,1\n",
    "        for _ in range(n):\n",
    "            a,b=b,a+b\n",
    "        return a"
   ]
  },
  {
   "cell_type": "code",
   "execution_count": 3,
   "metadata": {},
   "outputs": [
    {
     "name": "stdout",
     "output_type": "stream",
     "text": [
      "Iterasi ke 0\n",
      "Ini a :0\n",
      "Ini b: 1\n",
      "\n",
      "Iterasi ke 1\n",
      "Ini a :1\n",
      "Ini b: 1\n",
      "\n",
      "Iterasi ke 2\n",
      "Ini a :1\n",
      "Ini b: 2\n",
      "\n",
      "Iterasi ke 3\n",
      "Ini a :2\n",
      "Ini b: 3\n",
      "\n",
      "Iterasi ke 4\n",
      "Ini a :3\n",
      "Ini b: 5\n",
      "\n",
      "Iterasi ke 5\n",
      "Ini a :5\n",
      "Ini b: 8\n",
      "\n",
      "Iterasi ke 6\n",
      "Ini a :8\n",
      "Ini b: 13\n",
      "\n",
      "Iterasi ke 7\n",
      "Ini a :13\n",
      "Ini b: 21\n",
      "\n",
      "Iterasi ke 8\n",
      "Ini a :21\n",
      "Ini b: 34\n",
      "\n"
     ]
    },
    {
     "data": {
      "text/plain": [
       "34"
      ]
     },
     "execution_count": 3,
     "metadata": {},
     "output_type": "execute_result"
    }
   ],
   "source": [
    "Solution().fib(9)"
   ]
  },
  {
   "cell_type": "code",
   "execution_count": 4,
   "metadata": {},
   "outputs": [],
   "source": [
    "def fibonacci(n):\n",
    "    print(n)\n",
    "    if n <= 1:\n",
    "        return n\n",
    "    else:\n",
    "        return fibonacci(n-1) + fibonacci(n-2)"
   ]
  },
  {
   "cell_type": "code",
   "execution_count": 5,
   "metadata": {},
   "outputs": [
    {
     "name": "stdout",
     "output_type": "stream",
     "text": [
      "2\n",
      "1\n",
      "0\n",
      "1\n"
     ]
    }
   ],
   "source": [
    "print(fibonacci(2))"
   ]
  },
  {
   "cell_type": "code",
   "execution_count": 1,
   "metadata": {},
   "outputs": [
    {
     "name": "stdout",
     "output_type": "stream",
     "text": [
      "34\n"
     ]
    }
   ],
   "source": [
    "def Fibonacci(n):\n",
    " \n",
    "    # Check if input is 0 then it will\n",
    "    # print incorrect input\n",
    "    if n < 0:\n",
    "        print(\"Incorrect input\")\n",
    " \n",
    "    # Check if n is 0\n",
    "    # then it will return 0\n",
    "    elif n == 0:\n",
    "        return 0\n",
    " \n",
    "    # Check if n is 1,2\n",
    "    # it will return 1\n",
    "    elif n == 1 or n == 2:\n",
    "        return 1\n",
    " \n",
    "    else:\n",
    "        return Fibonacci(n-1) + Fibonacci(n-2)\n",
    " \n",
    " \n",
    "# Driver Program\n",
    "print(Fibonacci(9))"
   ]
  },
  {
   "cell_type": "code",
   "execution_count": 28,
   "metadata": {},
   "outputs": [
    {
     "ename": "IndentationError",
     "evalue": "expected an indented block (4076946105.py, line 5)",
     "output_type": "error",
     "traceback": [
      "\u001b[1;36m  Input \u001b[1;32mIn [28]\u001b[1;36m\u001b[0m\n\u001b[1;33m    return pairsum\u001b[0m\n\u001b[1;37m    ^\u001b[0m\n\u001b[1;31mIndentationError\u001b[0m\u001b[1;31m:\u001b[0m expected an indented block\n"
     ]
    }
   ],
   "source": [
    "def arrayPairSum(list):\n",
    "    pairsum = []\n",
    "    for i in range(len(list)):\n",
    "        pairsum.append([])\n",
    "    return pairsum"
   ]
  },
  {
   "cell_type": "code",
   "execution_count": 100,
   "metadata": {},
   "outputs": [
    {
     "name": "stdout",
     "output_type": "stream",
     "text": [
      "4\n"
     ]
    }
   ],
   "source": [
    "nums = [1, 4, 3, 2]\n",
    "result = arrayPairSum(nums)\n",
    "print(result)"
   ]
  },
  {
   "cell_type": "code",
   "execution_count": 101,
   "metadata": {},
   "outputs": [],
   "source": [
    "def arrayPairSum(nums):\n",
    "    nums.sort()\n",
    "    max_sum = 0\n",
    "    for i in range(0, len(nums), 2):\n",
    "        max_sum += nums[i]\n",
    "    return max_sum"
   ]
  },
  {
   "cell_type": "markdown",
   "metadata": {},
   "source": [
    "## 26. Remove Duplicates from Sorted Array"
   ]
  },
  {
   "cell_type": "code",
   "execution_count": 113,
   "metadata": {},
   "outputs": [],
   "source": [
    "nums =[1,1,2]"
   ]
  },
  {
   "cell_type": "code",
   "execution_count": 114,
   "metadata": {},
   "outputs": [],
   "source": [
    "def removeDuplicates(nums):\n",
    "    unique_nums = []\n",
    "    for num in nums:\n",
    "        if num not in unique_nums:\n",
    "            unique_nums.append(num)\n",
    "    \n",
    "    return len(unique_nums), unique_nums"
   ]
  },
  {
   "cell_type": "code",
   "execution_count": 115,
   "metadata": {},
   "outputs": [
    {
     "name": "stdout",
     "output_type": "stream",
     "text": [
      "(2, [1, 2])\n"
     ]
    }
   ],
   "source": [
    "print(removeDuplicates(nums))"
   ]
  },
  {
   "cell_type": "markdown",
   "metadata": {},
   "source": [
    "## 35. Search Insert Position\n"
   ]
  },
  {
   "cell_type": "code",
   "execution_count": 129,
   "metadata": {},
   "outputs": [
    {
     "ename": "TypeError",
     "evalue": "'NoneType' object is not iterable",
     "output_type": "error",
     "traceback": [
      "\u001b[1;31m---------------------------------------------------------------------------\u001b[0m",
      "\u001b[1;31mValueError\u001b[0m                                Traceback (most recent call last)",
      "\u001b[1;32md:\\Project\\LearningCoding\\latihan.ipynb Cell 14\u001b[0m in \u001b[0;36msearchInsert\u001b[1;34m(nums, target)\u001b[0m\n\u001b[0;32m      <a href='vscode-notebook-cell:/d%3A/Project/LearningCoding/latihan.ipynb#X21sZmlsZQ%3D%3D?line=4'>5</a>\u001b[0m \u001b[39mtry\u001b[39;00m:\n\u001b[1;32m----> <a href='vscode-notebook-cell:/d%3A/Project/LearningCoding/latihan.ipynb#X21sZmlsZQ%3D%3D?line=5'>6</a>\u001b[0m     \u001b[39mreturn\u001b[39;00m nums\u001b[39m.\u001b[39;49mindex(target)\n\u001b[0;32m      <a href='vscode-notebook-cell:/d%3A/Project/LearningCoding/latihan.ipynb#X21sZmlsZQ%3D%3D?line=6'>7</a>\u001b[0m \u001b[39mexcept\u001b[39;00m:\n",
      "\u001b[1;31mValueError\u001b[0m: 7 is not in list",
      "\nDuring handling of the above exception, another exception occurred:\n",
      "\u001b[1;31mTypeError\u001b[0m                                 Traceback (most recent call last)",
      "\u001b[1;32md:\\Project\\LearningCoding\\latihan.ipynb Cell 14\u001b[0m in \u001b[0;36m<cell line: 11>\u001b[1;34m()\u001b[0m\n\u001b[0;32m      <a href='vscode-notebook-cell:/d%3A/Project/LearningCoding/latihan.ipynb#X21sZmlsZQ%3D%3D?line=6'>7</a>\u001b[0m     \u001b[39mexcept\u001b[39;00m:\n\u001b[0;32m      <a href='vscode-notebook-cell:/d%3A/Project/LearningCoding/latihan.ipynb#X21sZmlsZQ%3D%3D?line=7'>8</a>\u001b[0m         \u001b[39mreturn\u001b[39;00m \u001b[39msorted\u001b[39m(nums\u001b[39m.\u001b[39mappend(target))\u001b[39m.\u001b[39mindex(target)\n\u001b[1;32m---> <a href='vscode-notebook-cell:/d%3A/Project/LearningCoding/latihan.ipynb#X21sZmlsZQ%3D%3D?line=10'>11</a>\u001b[0m \u001b[39mprint\u001b[39m(searchInsert(nums, target))\n",
      "\u001b[1;32md:\\Project\\LearningCoding\\latihan.ipynb Cell 14\u001b[0m in \u001b[0;36msearchInsert\u001b[1;34m(nums, target)\u001b[0m\n\u001b[0;32m      <a href='vscode-notebook-cell:/d%3A/Project/LearningCoding/latihan.ipynb#X21sZmlsZQ%3D%3D?line=5'>6</a>\u001b[0m     \u001b[39mreturn\u001b[39;00m nums\u001b[39m.\u001b[39mindex(target)\n\u001b[0;32m      <a href='vscode-notebook-cell:/d%3A/Project/LearningCoding/latihan.ipynb#X21sZmlsZQ%3D%3D?line=6'>7</a>\u001b[0m \u001b[39mexcept\u001b[39;00m:\n\u001b[1;32m----> <a href='vscode-notebook-cell:/d%3A/Project/LearningCoding/latihan.ipynb#X21sZmlsZQ%3D%3D?line=7'>8</a>\u001b[0m     \u001b[39mreturn\u001b[39;00m \u001b[39msorted\u001b[39;49m(nums\u001b[39m.\u001b[39;49mappend(target))\u001b[39m.\u001b[39mindex(target)\n",
      "\u001b[1;31mTypeError\u001b[0m: 'NoneType' object is not iterable"
     ]
    }
   ],
   "source": [
    "nums = [1,3,5,6]\n",
    "target = 7\n",
    "\n",
    "def searchInsert(nums, target):\n",
    "    try:\n",
    "        return nums.index(target)\n",
    "    except:\n",
    "        return sorted(nums.append(target)).index(target)\n",
    "\n",
    "\n",
    "print(searchInsert(nums, target))"
   ]
  },
  {
   "cell_type": "code",
   "execution_count": null,
   "metadata": {},
   "outputs": [],
   "source": []
  }
 ],
 "metadata": {
  "kernelspec": {
   "display_name": "Python 3",
   "language": "python",
   "name": "python3"
  },
  "language_info": {
   "codemirror_mode": {
    "name": "ipython",
    "version": 3
   },
   "file_extension": ".py",
   "mimetype": "text/x-python",
   "name": "python",
   "nbconvert_exporter": "python",
   "pygments_lexer": "ipython3",
   "version": "3.8.10"
  },
  "orig_nbformat": 4
 },
 "nbformat": 4,
 "nbformat_minor": 2
}
